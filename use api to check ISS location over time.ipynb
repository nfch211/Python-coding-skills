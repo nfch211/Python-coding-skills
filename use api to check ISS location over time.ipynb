{
 "cells": [
  {
   "cell_type": "code",
   "execution_count": 33,
   "metadata": {},
   "outputs": [
    {
     "name": "stdout",
     "output_type": "stream",
     "text": [
      "('36.6798', '-121.5675')\n",
      "('36.9665', '-121.1570')\n",
      "('37.2516', '-120.7432')\n",
      "('37.4947', '-120.3859')\n"
     ]
    }
   ],
   "source": [
    "import requests\n",
    "from selenium import webdriver\n",
    "import time\n",
    "\n",
    "# Create a single instance of the Chrome WebDriver\n",
    "chrome_options = webdriver.ChromeOptions()\n",
    "chrome_options.add_experimental_option('detach', True)\n",
    "driver = webdriver.Chrome(options=chrome_options)\n",
    "\n",
    "try:\n",
    "    while True:\n",
    "        response = requests.get(url=r'http://api.open-notify.org/iss-now.json')\n",
    "        response.raise_for_status()\n",
    "\n",
    "        data = response.json()\n",
    "\n",
    "        longitude = data['iss_position']['longitude']\n",
    "        latitude = data['iss_position']['latitude']\n",
    "\n",
    "        iss_position = (latitude, longitude)\n",
    "        print(iss_position)\n",
    "\n",
    "        # Update the existing Chrome window with the new latitude and longitude\n",
    "        web = fr\"https://www.google.com/maps/place/28%C2%B052'31.4%22N+131%C2%B003'41.8%22W/@5.8166483,-156.2229443,3z/data=!4m4!3m3!8m2!3d{latitude}!4d-{longitude}?entry=ttu\"\n",
    "        driver.get(web)\n",
    "\n",
    "        # Add a delay (optional) to control the update frequency\n",
    "        time.sleep(1)  # Adjust as needed\n",
    "\n",
    "except KeyboardInterrupt:\n",
    "    # Close the Chrome window when the script is interrupted\n",
    "    driver.quit()\n"
   ]
  }
 ],
 "metadata": {
  "kernelspec": {
   "display_name": "Python 3",
   "language": "python",
   "name": "python3"
  },
  "language_info": {
   "codemirror_mode": {
    "name": "ipython",
    "version": 3
   },
   "file_extension": ".py",
   "mimetype": "text/x-python",
   "name": "python",
   "nbconvert_exporter": "python",
   "pygments_lexer": "ipython3",
   "version": "3.12.2"
  }
 },
 "nbformat": 4,
 "nbformat_minor": 2
}
