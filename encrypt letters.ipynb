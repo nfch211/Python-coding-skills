{
 "cells": [
  {
   "cell_type": "code",
   "execution_count": 8,
   "metadata": {},
   "outputs": [
    {
     "name": "stdout",
     "output_type": "stream",
     "text": [
      "KHOOR, JRRG PRUQLQJ!\n"
     ]
    }
   ],
   "source": [
    "import string\n",
    "\n",
    "# encrypting words by shifting each character in a word according to its position in the alphabet by the parameter 'co'.\n",
    "\n",
    "def encoding(char, co):\n",
    "    A_to_Z = list(string.ascii_uppercase)\n",
    "    char = char.upper()\n",
    "    new_words = \"\"\n",
    "    for letter in char:\n",
    "        if letter in A_to_Z:\n",
    "            right_co = A_to_Z.index(letter)+co\n",
    "            if right_co < 26-co:\n",
    "                new_words+= A_to_Z[right_co]          \n",
    "            else:\n",
    "                new_words+= A_to_Z[right_co-26]\n",
    "        else:\n",
    "            new_words+= letter\n",
    "\n",
    "    print(new_words)\n",
    "            \n",
    "          \n",
    "A_to_Z = list(string.ascii_uppercase)\n",
    "\n",
    "\n",
    "encoding(\"Hello, good morning!\",3)\n",
    "\n",
    "#it will show \"KHOOR, JRRG PRUQLQJ!\"\n"
   ]
  }
 ],
 "metadata": {
  "kernelspec": {
   "display_name": "Python 3",
   "language": "python",
   "name": "python3"
  },
  "language_info": {
   "codemirror_mode": {
    "name": "ipython",
    "version": 3
   },
   "file_extension": ".py",
   "mimetype": "text/x-python",
   "name": "python",
   "nbconvert_exporter": "python",
   "pygments_lexer": "ipython3",
   "version": "3.12.2"
  }
 },
 "nbformat": 4,
 "nbformat_minor": 2
}
