{
 "cells": [
  {
   "cell_type": "code",
   "execution_count": 86,
   "metadata": {},
   "outputs": [
    {
     "name": "stdout",
     "output_type": "stream",
     "text": [
      "Your cards: [10, 1] You have 11 points\n",
      "Computer's first card: 8\n",
      "Your cards: [10, 1, 4], current score: 15\n",
      "Your cards: [10, 1, 4, 4], current score: 19\n",
      "You win! Computer has 22 points.\n"
     ]
    }
   ],
   "source": [
    "import random\n",
    "\n",
    "cards = [11, 1, 2, 3, 4, 5, 6, 7, 8, 9, 10, 10, 10, 10]\n",
    "\n",
    "\n",
    "\n",
    "\n",
    "user_cards_on_hands = []\n",
    "computer_cards_on_hands = []\n",
    "for i in range(2):\n",
    "    user_cards_on_hands.append(random.choices(cards, k=1)[0])\n",
    "    computer_cards_on_hands.append(random.choices(cards, k=1)[0])\n",
    "    \n",
    "for card in user_cards_on_hands:\n",
    "    if card == 11 and sum(user_cards_on_hands) > 21:\n",
    "        user_cards_on_hands[user_cards_on_hands.index(card)] = 1\n",
    "print(f\"Your cards: {user_cards_on_hands} You have {sum(user_cards_on_hands)} points\")\n",
    "print(f\"Computer's first card: {computer_cards_on_hands[0]}\")\n",
    "\n",
    "\n",
    "\n",
    "while True:\n",
    "    question = \"y\"\n",
    "    \n",
    "\n",
    "        \n",
    "    while sum(user_cards_on_hands) < 21 and question == \"y\":\n",
    "        question = input(\"Do you want to draw a card? Type 'y' or 'n': \")\n",
    "        \n",
    "        if question == \"y\":\n",
    "            user_cards_on_hands.append(random.choices(cards, k=1)[0])\n",
    "            for card in user_cards_on_hands:\n",
    "                if card == 11 and sum(user_cards_on_hands) > 21:\n",
    "                    user_cards_on_hands.remove(card)\n",
    "                    user_cards_on_hands.append(1)\n",
    "    \n",
    "            print(f\"Your cards: {user_cards_on_hands}, current score: {sum(user_cards_on_hands)}\")\n",
    "        if question == \"n\":\n",
    "            continue\n",
    "            \n",
    "    \n",
    "    while sum(computer_cards_on_hands) < 17:\n",
    "        computer_cards_on_hands.append(random.choices(cards, k=1)[0])\n",
    "        for card in computer_cards_on_hands:\n",
    "            if card == 11 and sum(user_cards_on_hands) > 21:\n",
    "                computer_cards_on_hands.remove(card)\n",
    "                computer_cards_on_hands.append(1)\n",
    "                \n",
    "        \n",
    "\n",
    "    if sum(user_cards_on_hands) > 21:\n",
    "        print(f\"You lose! You get {sum(user_cards_on_hands)} points!\" )                      \n",
    "    elif sum(computer_cards_on_hands) > 21:\n",
    "        print(f\"You win! Computer has {sum(computer_cards_on_hands)} points.\")\n",
    "    elif sum(user_cards_on_hands) == sum(computer_cards_on_hands):\n",
    "        print(f\"Draw! You have {sum(user_cards_on_hands)} points and the computer also has {sum(computer_cards_on_hands)} points.\")\n",
    "    elif sum(user_cards_on_hands) > sum(computer_cards_on_hands):\n",
    "        print(f\"You win! Computer has {sum(computer_cards_on_hands)} points. You have {sum(user_cards_on_hands)} points\")\n",
    "    elif sum(user_cards_on_hands) < sum(computer_cards_on_hands):\n",
    "        print(f\"You lose! Computer has cards {computer_cards_on_hands} and {sum(computer_cards_on_hands)} points\")\n",
    "\n",
    "    break\n",
    "\n",
    "\n",
    "\n"
   ]
  }
 ],
 "metadata": {
  "kernelspec": {
   "display_name": "Python 3",
   "language": "python",
   "name": "python3"
  },
  "language_info": {
   "codemirror_mode": {
    "name": "ipython",
    "version": 3
   },
   "file_extension": ".py",
   "mimetype": "text/x-python",
   "name": "python",
   "nbconvert_exporter": "python",
   "pygments_lexer": "ipython3",
   "version": "3.12.2"
  }
 },
 "nbformat": 4,
 "nbformat_minor": 2
}
