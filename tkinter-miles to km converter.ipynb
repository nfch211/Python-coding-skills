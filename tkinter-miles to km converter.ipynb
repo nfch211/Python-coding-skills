{
 "cells": [
  {
   "cell_type": "code",
   "execution_count": 4,
   "metadata": {},
   "outputs": [],
   "source": [
    "from tkinter import *\n",
    "def cal():\n",
    "    re = round(int(input.get())*1.609)\n",
    "    result_label.config(text=f'{re}')\n",
    "\n",
    "window= Tk()\n",
    "window.title('Mile to Km Converter')\n",
    "window.config(padx=20,pady=20)\n",
    "M_lable = Label(text='Miles')\n",
    "M_lable.grid(column=2, row=0)\n",
    "\n",
    "input= Entry()\n",
    "input.config(width=5)\n",
    "input.grid(column=1, row=0)\n",
    "\n",
    "is_e_label = Label(text='is equal to')\n",
    "is_e_label.grid(column=0, row=1)\n",
    "\n",
    "result_label = Label(text=0)\n",
    "result_label.grid(column=1, row=1)\n",
    "km_label = Label(text='Km')\n",
    "km_label.grid(column=2, row=1)\n",
    "Cal_button = Button(text='Calculate', command=cal)\n",
    "Cal_button.grid(column=1, row=2)\n",
    "\n",
    "\n",
    "window.mainloop()"
   ]
  }
 ],
 "metadata": {
  "kernelspec": {
   "display_name": "Python 3",
   "language": "python",
   "name": "python3"
  },
  "language_info": {
   "codemirror_mode": {
    "name": "ipython",
    "version": 3
   },
   "file_extension": ".py",
   "mimetype": "text/x-python",
   "name": "python",
   "nbconvert_exporter": "python",
   "pygments_lexer": "ipython3",
   "version": "3.12.2"
  }
 },
 "nbformat": 4,
 "nbformat_minor": 2
}
